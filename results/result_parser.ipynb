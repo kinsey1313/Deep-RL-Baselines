{
 "cells": [
  {
   "cell_type": "code",
   "execution_count": null,
   "metadata": {
    "collapsed": true
   },
   "outputs": [],
   "source": []
  },
  {
   "cell_type": "code",
   "execution_count": 12,
   "metadata": {},
   "outputs": [
    {
     "name": "stdout",
     "output_type": "stream",
     "text": [
      "<class 'dict'>\n"
     ]
    }
   ],
   "source": [
    "%matplotlib inline\n",
    "\n",
    "import matplotlib\n",
    "import numpy as np\n",
    "import matplotlib.pyplot as plt\n",
    "\n",
    "import pandas as pd\n",
    "import numpy as np\n",
    "from pathlib import Path\n",
    "import os\n",
    "import json\n",
    "import sys, json\n",
    "\n",
    "\n",
    "def show_graphs(top_level_dir, timesteps = True):\n",
    "    \"\"\"\n",
    "    Shows all the results in a directory from \n",
    "    \"\"\"\n",
    "    #This should point to wherever the results file is\n",
    "    files = []\n",
    "\n",
    "    for path in Path(top_level_dir).rglob('result.json'):\n",
    "        \n",
    "        files.append(path.__str__())\n",
    "\n",
    "    #print(files)\n",
    "\n",
    "    all_dfs = {}\n",
    "    for file in files:\n",
    "\n",
    "        #Extract the filename\n",
    "        filename = file.split(\"/\")[1]\n",
    "        \n",
    "        #print(filename)\n",
    "        data = [json.loads(line) for line in open(file, 'r')]\n",
    "\n",
    "        data_dict = {   'episode_len_mean':[], \n",
    "                        'timesteps_total':[], \n",
    "                        'episode_reward_mean':[],\n",
    "                        'timesteps_this_iter':[],\n",
    "                    }\n",
    "\n",
    "        for i in data:\n",
    "            data_dict['episode_len_mean'].append(i[\"episode_len_mean\"])\n",
    "            data_dict['timesteps_total'].append(i['timesteps_total'])\n",
    "            data_dict['episode_reward_mean'].append(i['episode_reward_mean'])\n",
    "            data_dict['timesteps_this_iter'].append(i['timesteps_this_iter'])\n",
    "\n",
    "\n",
    "        df=pd.DataFrame.from_dict(data_dict,orient='index').transpose()\n",
    "        \n",
    "        #df.plot(x='timesteps_total', y='episode_len_mean', style='-', title=filename)\n",
    "        all_dfs[filename] = df\n",
    "    \n",
    "    return all_dfs\n",
    "\n",
    "a = show_graphs(\"maze_results\")\n",
    "print(type(a))\n"
   ]
  },
  {
   "cell_type": "code",
   "execution_count": 14,
   "metadata": {},
   "outputs": [
    {
     "data": {
      "text/plain": [
       "<matplotlib.axes._subplots.AxesSubplot at 0x7f5226c56518>"
      ]
     },
     "execution_count": 14,
     "metadata": {},
     "output_type": "execute_result"
    },
    {
     "data": {
      "image/png": "[encoded data removed]",
      "text/plain": [
       "<matplotlib.figure.Figure at 0x7f5226d9dd30>"
      ]
     },
     "metadata": {},
     "output_type": "display_data"
    }
   ],
   "source": [
    "def get_df(top_level_dir, column = \"episode_len_mean\"):\n",
    "    \"\"\"\n",
    "    Shows all the results in a directory from \n",
    "    \"\"\"\n",
    "    #This should point to wherever the results file is\n",
    "    files = []\n",
    "\n",
    "    for path in Path(top_level_dir).rglob('result.json'):\n",
    "        files.append(path.__str__())\n",
    "\n",
    "    all_dfs = {}\n",
    "    data_dict = {}\n",
    "    for file in files:\n",
    "\n",
    "        #Extract the filename\n",
    "        filename = file.split(\"/\")[1]\n",
    "        \n",
    "        #print(filename)\n",
    "        data = [json.loads(line) for line in open(file, 'r')]\n",
    "\n",
    "        data_dict[filename] = []\n",
    "\n",
    "        for i in data:\n",
    "            data_dict[filename].append(i[column])\n",
    "\n",
    "    return data_dict\n",
    "\n",
    "\n",
    "data_dict = get_df(\"maze_results\")\n",
    "\n",
    "df=pd.DataFrame.from_dict(data_dict,orient='index').transpose()\n",
    "df.plot()"
   ]
  },
  {
   "cell_type": "code",
   "execution_count": null,
   "metadata": {},
   "outputs": [],
   "source": []
  },
  {
   "cell_type": "code",
   "execution_count": null,
   "metadata": {
    "collapsed": true
   },
   "outputs": [],
   "source": []
  }
 ],
 "metadata": {
  "kernelspec": {
   "display_name": "Python 3",
   "language": "python",
   "name": "python3"
  },
  "language_info": {
   "codemirror_mode": {
    "name": "ipython",
    "version": 3
   },
   "file_extension": ".py",
   "mimetype": "text/x-python",
   "name": "python",
   "nbconvert_exporter": "python",
   "pygments_lexer": "ipython3",
   "version": "3.6.10"
  }
 },
 "nbformat": 4,
 "nbformat_minor": 2
}
